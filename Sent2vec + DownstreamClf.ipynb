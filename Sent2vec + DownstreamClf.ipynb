{
 "cells": [
  {
   "cell_type": "markdown",
   "metadata": {},
   "source": [
    "# Training various Down stream classical Classifier Model"
   ]
  },
  {
   "cell_type": "markdown",
   "metadata": {},
   "source": [
    "## Importing libraries\n"
   ]
  },
  {
   "cell_type": "code",
   "execution_count": 1,
   "metadata": {},
   "outputs": [],
   "source": [
    "import pandas as pd\n",
    "import numpy as np\n",
    "import pickle"
   ]
  },
  {
   "cell_type": "markdown",
   "metadata": {},
   "source": [
    "## Loading trained sentence2vec sentence embedding model"
   ]
  },
  {
   "cell_type": "code",
   "execution_count": 2,
   "metadata": {},
   "outputs": [],
   "source": [
    "pickle_in = open(\"resources/pickle/sent2vec.pkl\",\"rb\")\n",
    "s2v = pickle.load(pickle_in)"
   ]
  },
  {
   "cell_type": "markdown",
   "metadata": {},
   "source": [
    "## Converting training and testing data to sentence vectors "
   ]
  },
  {
   "cell_type": "code",
   "execution_count": 3,
   "metadata": {},
   "outputs": [],
   "source": [
    "training_data = pd.read_pickle(\"resources/pickle/training.pkl\")\n",
    "testing_data = pd.read_pickle(\"resources/pickle/test.pkl\")"
   ]
  },
  {
   "cell_type": "code",
   "execution_count": 4,
   "metadata": {},
   "outputs": [
    {
     "name": "stderr",
     "output_type": "stream",
     "text": [
      "ERROR:root:could not find a match with word in lexicon, checking next lexicon word\n",
      "Traceback (most recent call last):\n",
      "  File \"/Users/davistanugraha/Desktop/getthisdone/ml_models/apriori.py\", line 68, in replace_words_with_tags\n",
      "    if tokenize_text[inner_counter] == word:\n",
      "IndexError: list index out of range\n",
      "ERROR:root:could not find a match with word in lexicon, checking next lexicon word\n",
      "Traceback (most recent call last):\n",
      "  File \"/Users/davistanugraha/Desktop/getthisdone/ml_models/apriori.py\", line 68, in replace_words_with_tags\n",
      "    if tokenize_text[inner_counter] == word:\n",
      "IndexError: list index out of range\n",
      "ERROR:root:could not find a match with word in lexicon, checking next lexicon word\n",
      "Traceback (most recent call last):\n",
      "  File \"/Users/davistanugraha/Desktop/getthisdone/ml_models/apriori.py\", line 68, in replace_words_with_tags\n",
      "    if tokenize_text[inner_counter] == word:\n",
      "IndexError: list index out of range\n",
      "ERROR:root:could not find a match with word in lexicon, checking next lexicon word\n",
      "Traceback (most recent call last):\n",
      "  File \"/Users/davistanugraha/Desktop/getthisdone/ml_models/apriori.py\", line 68, in replace_words_with_tags\n",
      "    if tokenize_text[inner_counter] == word:\n",
      "IndexError: list index out of range\n",
      "ERROR:root:could not find a match with word in lexicon, checking next lexicon word\n",
      "Traceback (most recent call last):\n",
      "  File \"/Users/davistanugraha/Desktop/getthisdone/ml_models/apriori.py\", line 68, in replace_words_with_tags\n",
      "    if tokenize_text[inner_counter] == word:\n",
      "IndexError: list index out of range\n",
      "ERROR:root:could not find a match with word in lexicon, checking next lexicon word\n",
      "Traceback (most recent call last):\n",
      "  File \"/Users/davistanugraha/Desktop/getthisdone/ml_models/apriori.py\", line 68, in replace_words_with_tags\n",
      "    if tokenize_text[inner_counter] == word:\n",
      "IndexError: list index out of range\n",
      "ERROR:root:could not find a match with word in lexicon, checking next lexicon word\n",
      "Traceback (most recent call last):\n",
      "  File \"/Users/davistanugraha/Desktop/getthisdone/ml_models/apriori.py\", line 68, in replace_words_with_tags\n",
      "    if tokenize_text[inner_counter] == word:\n",
      "IndexError: list index out of range\n",
      "ERROR:root:could not find a match with word in lexicon, checking next lexicon word\n",
      "Traceback (most recent call last):\n",
      "  File \"/Users/davistanugraha/Desktop/getthisdone/ml_models/apriori.py\", line 68, in replace_words_with_tags\n",
      "    if tokenize_text[inner_counter] == word:\n",
      "IndexError: list index out of range\n",
      "ERROR:root:could not find a match with word in lexicon, checking next lexicon word\n",
      "Traceback (most recent call last):\n",
      "  File \"/Users/davistanugraha/Desktop/getthisdone/ml_models/apriori.py\", line 68, in replace_words_with_tags\n",
      "    if tokenize_text[inner_counter] == word:\n",
      "IndexError: list index out of range\n",
      "ERROR:root:could not find a match with word in lexicon, checking next lexicon word\n",
      "Traceback (most recent call last):\n",
      "  File \"/Users/davistanugraha/Desktop/getthisdone/ml_models/apriori.py\", line 68, in replace_words_with_tags\n",
      "    if tokenize_text[inner_counter] == word:\n",
      "IndexError: list index out of range\n",
      "ERROR:root:could not find a match with word in lexicon, checking next lexicon word\n",
      "Traceback (most recent call last):\n",
      "  File \"/Users/davistanugraha/Desktop/getthisdone/ml_models/apriori.py\", line 68, in replace_words_with_tags\n",
      "    if tokenize_text[inner_counter] == word:\n",
      "IndexError: list index out of range\n",
      "ERROR:root:could not find a match with word in lexicon, checking next lexicon word\n",
      "Traceback (most recent call last):\n",
      "  File \"/Users/davistanugraha/Desktop/getthisdone/ml_models/apriori.py\", line 68, in replace_words_with_tags\n",
      "    if tokenize_text[inner_counter] == word:\n",
      "IndexError: list index out of range\n",
      "ERROR:root:could not find a match with word in lexicon, checking next lexicon word\n",
      "Traceback (most recent call last):\n",
      "  File \"/Users/davistanugraha/Desktop/getthisdone/ml_models/apriori.py\", line 68, in replace_words_with_tags\n",
      "    if tokenize_text[inner_counter] == word:\n",
      "IndexError: list index out of range\n",
      "ERROR:root:could not find a match with word in lexicon, checking next lexicon word\n",
      "Traceback (most recent call last):\n",
      "  File \"/Users/davistanugraha/Desktop/getthisdone/ml_models/apriori.py\", line 68, in replace_words_with_tags\n",
      "    if tokenize_text[inner_counter] == word:\n",
      "IndexError: list index out of range\n",
      "ERROR:root:could not find a match with word in lexicon, checking next lexicon word\n",
      "Traceback (most recent call last):\n",
      "  File \"/Users/davistanugraha/Desktop/getthisdone/ml_models/apriori.py\", line 68, in replace_words_with_tags\n",
      "    if tokenize_text[inner_counter] == word:\n",
      "IndexError: list index out of range\n",
      "ERROR:root:could not find a match with word in lexicon, checking next lexicon word\n",
      "Traceback (most recent call last):\n",
      "  File \"/Users/davistanugraha/Desktop/getthisdone/ml_models/apriori.py\", line 68, in replace_words_with_tags\n",
      "    if tokenize_text[inner_counter] == word:\n",
      "IndexError: list index out of range\n",
      "ERROR:root:could not find a match with word in lexicon, checking next lexicon word\n",
      "Traceback (most recent call last):\n",
      "  File \"/Users/davistanugraha/Desktop/getthisdone/ml_models/apriori.py\", line 68, in replace_words_with_tags\n",
      "    if tokenize_text[inner_counter] == word:\n",
      "IndexError: list index out of range\n",
      "ERROR:root:could not find a match with word in lexicon, checking next lexicon word\n",
      "Traceback (most recent call last):\n",
      "  File \"/Users/davistanugraha/Desktop/getthisdone/ml_models/apriori.py\", line 68, in replace_words_with_tags\n",
      "    if tokenize_text[inner_counter] == word:\n",
      "IndexError: list index out of range\n",
      "ERROR:root:could not find a match with word in lexicon, checking next lexicon word\n",
      "Traceback (most recent call last):\n",
      "  File \"/Users/davistanugraha/Desktop/getthisdone/ml_models/apriori.py\", line 68, in replace_words_with_tags\n",
      "    if tokenize_text[inner_counter] == word:\n",
      "IndexError: list index out of range\n",
      "ERROR:root:could not find a match with word in lexicon, checking next lexicon word\n",
      "Traceback (most recent call last):\n",
      "  File \"/Users/davistanugraha/Desktop/getthisdone/ml_models/apriori.py\", line 68, in replace_words_with_tags\n",
      "    if tokenize_text[inner_counter] == word:\n",
      "IndexError: list index out of range\n",
      "ERROR:root:could not find a match with word in lexicon, checking next lexicon word\n",
      "Traceback (most recent call last):\n",
      "  File \"/Users/davistanugraha/Desktop/getthisdone/ml_models/apriori.py\", line 68, in replace_words_with_tags\n",
      "    if tokenize_text[inner_counter] == word:\n",
      "IndexError: list index out of range\n",
      "ERROR:root:could not find a match with word in lexicon, checking next lexicon word\n",
      "Traceback (most recent call last):\n",
      "  File \"/Users/davistanugraha/Desktop/getthisdone/ml_models/apriori.py\", line 68, in replace_words_with_tags\n",
      "    if tokenize_text[inner_counter] == word:\n",
      "IndexError: list index out of range\n",
      "ERROR:root:could not find a match with word in lexicon, checking next lexicon word\n",
      "Traceback (most recent call last):\n",
      "  File \"/Users/davistanugraha/Desktop/getthisdone/ml_models/apriori.py\", line 68, in replace_words_with_tags\n",
      "    if tokenize_text[inner_counter] == word:\n",
      "IndexError: list index out of range\n",
      "ERROR:root:could not find a match with word in lexicon, checking next lexicon word\n",
      "Traceback (most recent call last):\n",
      "  File \"/Users/davistanugraha/Desktop/getthisdone/ml_models/apriori.py\", line 68, in replace_words_with_tags\n",
      "    if tokenize_text[inner_counter] == word:\n",
      "IndexError: list index out of range\n",
      "ERROR:root:could not find a match with word in lexicon, checking next lexicon word\n",
      "Traceback (most recent call last):\n",
      "  File \"/Users/davistanugraha/Desktop/getthisdone/ml_models/apriori.py\", line 68, in replace_words_with_tags\n",
      "    if tokenize_text[inner_counter] == word:\n",
      "IndexError: list index out of range\n",
      "ERROR:root:could not find a match with word in lexicon, checking next lexicon word\n",
      "Traceback (most recent call last):\n",
      "  File \"/Users/davistanugraha/Desktop/getthisdone/ml_models/apriori.py\", line 68, in replace_words_with_tags\n",
      "    if tokenize_text[inner_counter] == word:\n",
      "IndexError: list index out of range\n",
      "ERROR:root:could not find a match with word in lexicon, checking next lexicon word\n",
      "Traceback (most recent call last):\n",
      "  File \"/Users/davistanugraha/Desktop/getthisdone/ml_models/apriori.py\", line 68, in replace_words_with_tags\n",
      "    if tokenize_text[inner_counter] == word:\n",
      "IndexError: list index out of range\n"
     ]
    },
    {
     "name": "stderr",
     "output_type": "stream",
     "text": [
      "ERROR:root:could not find a match with word in lexicon, checking next lexicon word\n",
      "Traceback (most recent call last):\n",
      "  File \"/Users/davistanugraha/Desktop/getthisdone/ml_models/apriori.py\", line 68, in replace_words_with_tags\n",
      "    if tokenize_text[inner_counter] == word:\n",
      "IndexError: list index out of range\n",
      "ERROR:root:could not find a match with word in lexicon, checking next lexicon word\n",
      "Traceback (most recent call last):\n",
      "  File \"/Users/davistanugraha/Desktop/getthisdone/ml_models/apriori.py\", line 68, in replace_words_with_tags\n",
      "    if tokenize_text[inner_counter] == word:\n",
      "IndexError: list index out of range\n",
      "ERROR:root:could not find a match with word in lexicon, checking next lexicon word\n",
      "Traceback (most recent call last):\n",
      "  File \"/Users/davistanugraha/Desktop/getthisdone/ml_models/apriori.py\", line 68, in replace_words_with_tags\n",
      "    if tokenize_text[inner_counter] == word:\n",
      "IndexError: list index out of range\n",
      "ERROR:root:could not find a match with word in lexicon, checking next lexicon word\n",
      "Traceback (most recent call last):\n",
      "  File \"/Users/davistanugraha/Desktop/getthisdone/ml_models/apriori.py\", line 68, in replace_words_with_tags\n",
      "    if tokenize_text[inner_counter] == word:\n",
      "IndexError: list index out of range\n",
      "ERROR:root:could not find a match with word in lexicon, checking next lexicon word\n",
      "Traceback (most recent call last):\n",
      "  File \"/Users/davistanugraha/Desktop/getthisdone/ml_models/apriori.py\", line 68, in replace_words_with_tags\n",
      "    if tokenize_text[inner_counter] == word:\n",
      "IndexError: list index out of range\n",
      "ERROR:root:could not find a match with word in lexicon, checking next lexicon word\n",
      "Traceback (most recent call last):\n",
      "  File \"/Users/davistanugraha/Desktop/getthisdone/ml_models/apriori.py\", line 68, in replace_words_with_tags\n",
      "    if tokenize_text[inner_counter] == word:\n",
      "IndexError: list index out of range\n",
      "/Users/davistanugraha/anaconda3/lib/python3.7/site-packages/numpy/core/fromnumeric.py:3118: RuntimeWarning: Mean of empty slice.\n",
      "  out=out, **kwargs)\n",
      "ERROR:root:could not find a match with word in lexicon, checking next lexicon word\n",
      "Traceback (most recent call last):\n",
      "  File \"/Users/davistanugraha/Desktop/getthisdone/ml_models/apriori.py\", line 68, in replace_words_with_tags\n",
      "    if tokenize_text[inner_counter] == word:\n",
      "IndexError: list index out of range\n",
      "ERROR:root:could not find a match with word in lexicon, checking next lexicon word\n",
      "Traceback (most recent call last):\n",
      "  File \"/Users/davistanugraha/Desktop/getthisdone/ml_models/apriori.py\", line 68, in replace_words_with_tags\n",
      "    if tokenize_text[inner_counter] == word:\n",
      "IndexError: list index out of range\n"
     ]
    }
   ],
   "source": [
    "training_data['sentence_vectors'] = s2v.transform(training_data['Sentence'])\n",
    "transformed_training_data = training_data[~training_data['sentence_vectors'].isnull()]\n",
    "testing_data['sentence_vectors'] = s2v.transform(testing_data['sentences'])\n",
    "transformed_testing_data = testing_data[~testing_data['sentence_vectors'].isnull()]"
   ]
  },
  {
   "cell_type": "markdown",
   "metadata": {},
   "source": [
    "# Training and Testing downstream classifiers "
   ]
  },
  {
   "cell_type": "markdown",
   "metadata": {},
   "source": [
    "## K-NN "
   ]
  },
  {
   "cell_type": "code",
   "execution_count": 5,
   "metadata": {},
   "outputs": [],
   "source": [
    "from sklearn.neighbors import KNeighborsClassifier\n",
    "from sklearn.metrics import classification_report\n",
    "from sklearn.metrics import accuracy_score"
   ]
  },
  {
   "cell_type": "code",
   "execution_count": 6,
   "metadata": {},
   "outputs": [
    {
     "data": {
      "text/plain": [
       "KNeighborsClassifier(algorithm='auto', leaf_size=30, metric='minkowski',\n",
       "           metric_params=None, n_jobs=None, n_neighbors=10, p=2,\n",
       "           weights='uniform')"
      ]
     },
     "execution_count": 6,
     "metadata": {},
     "output_type": "execute_result"
    }
   ],
   "source": [
    "X_train = np.stack(transformed_training_data['sentence_vectors'].values)\n",
    "y_train = transformed_training_data['Label']\n",
    "X_test = np.stack(transformed_testing_data['sentence_vectors'].values)\n",
    "y_test = transformed_testing_data['label']\n",
    "knnmodel = KNeighborsClassifier(n_neighbors=10)\n",
    "knnmodel.fit(X_train, y_train)"
   ]
  },
  {
   "cell_type": "code",
   "execution_count": 7,
   "metadata": {},
   "outputs": [
    {
     "name": "stdout",
     "output_type": "stream",
     "text": [
      "              precision    recall  f1-score   support\n",
      "\n",
      "           0       0.00      0.00      0.00        28\n",
      "    negative       0.20      0.50      0.29        20\n",
      "     neutral       0.57      0.72      0.64       106\n",
      "    positive       0.75      0.61      0.67       150\n",
      "\n",
      "   micro avg       0.58      0.58      0.58       304\n",
      "   macro avg       0.38      0.46      0.40       304\n",
      "weighted avg       0.58      0.58      0.57       304\n",
      "\n"
     ]
    },
    {
     "name": "stderr",
     "output_type": "stream",
     "text": [
      "/Users/davistanugraha/anaconda3/lib/python3.7/site-packages/sklearn/metrics/classification.py:1143: UndefinedMetricWarning: Precision and F-score are ill-defined and being set to 0.0 in labels with no predicted samples.\n",
      "  'precision', 'predicted', average, warn_for)\n"
     ]
    }
   ],
   "source": [
    "print(classification_report(y_test, knnmodel.predict(X_test)))"
   ]
  },
  {
   "cell_type": "markdown",
   "metadata": {},
   "source": [
    "## RandomForest Classifier "
   ]
  },
  {
   "cell_type": "code",
   "execution_count": 8,
   "metadata": {},
   "outputs": [],
   "source": [
    "from sklearn.ensemble import RandomForestClassifier"
   ]
  },
  {
   "cell_type": "code",
   "execution_count": 9,
   "metadata": {},
   "outputs": [],
   "source": [
    "rf_classifier = RandomForestClassifier(n_estimators=100)"
   ]
  },
  {
   "cell_type": "code",
   "execution_count": 10,
   "metadata": {},
   "outputs": [
    {
     "name": "stdout",
     "output_type": "stream",
     "text": [
      "              precision    recall  f1-score   support\n",
      "\n",
      "           0       0.00      0.00      0.00        28\n",
      "    negative       0.19      0.20      0.20        20\n",
      "     neutral       0.48      0.83      0.61       106\n",
      "    positive       0.75      0.50      0.60       150\n",
      "\n",
      "   micro avg       0.55      0.55      0.55       304\n",
      "   macro avg       0.36      0.38      0.35       304\n",
      "weighted avg       0.55      0.55      0.52       304\n",
      "\n"
     ]
    },
    {
     "name": "stderr",
     "output_type": "stream",
     "text": [
      "/Users/davistanugraha/anaconda3/lib/python3.7/site-packages/sklearn/metrics/classification.py:1143: UndefinedMetricWarning: Precision and F-score are ill-defined and being set to 0.0 in labels with no predicted samples.\n",
      "  'precision', 'predicted', average, warn_for)\n"
     ]
    }
   ],
   "source": [
    "rf_classifier.fit(X_train, y_train)\n",
    "print(classification_report(y_test, rf_classifier.predict(X_test)))"
   ]
  },
  {
   "cell_type": "markdown",
   "metadata": {},
   "source": [
    "## ADABoostClassifier "
   ]
  },
  {
   "cell_type": "code",
   "execution_count": 11,
   "metadata": {},
   "outputs": [],
   "source": [
    "from sklearn.ensemble import AdaBoostClassifier"
   ]
  },
  {
   "cell_type": "code",
   "execution_count": 12,
   "metadata": {},
   "outputs": [],
   "source": [
    "ada_classifier = AdaBoostClassifier(n_estimators= 100, learning_rate= 0.1)"
   ]
  },
  {
   "cell_type": "code",
   "execution_count": 13,
   "metadata": {},
   "outputs": [
    {
     "name": "stdout",
     "output_type": "stream",
     "text": [
      "              precision    recall  f1-score   support\n",
      "\n",
      "           0       0.00      0.00      0.00        28\n",
      "    negative       0.26      0.30      0.28        20\n",
      "     neutral       0.50      0.83      0.63       106\n",
      "    positive       0.65      0.46      0.54       150\n",
      "\n",
      "   micro avg       0.54      0.54      0.54       304\n",
      "   macro avg       0.35      0.40      0.36       304\n",
      "weighted avg       0.51      0.54      0.50       304\n",
      "\n"
     ]
    },
    {
     "name": "stderr",
     "output_type": "stream",
     "text": [
      "/Users/davistanugraha/anaconda3/lib/python3.7/site-packages/sklearn/metrics/classification.py:1143: UndefinedMetricWarning: Precision and F-score are ill-defined and being set to 0.0 in labels with no predicted samples.\n",
      "  'precision', 'predicted', average, warn_for)\n"
     ]
    }
   ],
   "source": [
    "ada_classifier.fit(X_train, y_train)\n",
    "print(classification_report(y_test, ada_classifier.predict(X_test)))"
   ]
  },
  {
   "cell_type": "markdown",
   "metadata": {},
   "source": [
    "## Logistic Regression "
   ]
  },
  {
   "cell_type": "code",
   "execution_count": 14,
   "metadata": {},
   "outputs": [],
   "source": [
    "from sklearn.linear_model import LogisticRegression"
   ]
  },
  {
   "cell_type": "code",
   "execution_count": 15,
   "metadata": {},
   "outputs": [],
   "source": [
    "lg_clf = LogisticRegression()"
   ]
  },
  {
   "cell_type": "code",
   "execution_count": 16,
   "metadata": {},
   "outputs": [
    {
     "name": "stdout",
     "output_type": "stream",
     "text": [
      "              precision    recall  f1-score   support\n",
      "\n",
      "           0       0.00      0.00      0.00        28\n",
      "    negative       0.22      0.40      0.29        20\n",
      "     neutral       0.58      0.75      0.66       106\n",
      "    positive       0.72      0.63      0.67       150\n",
      "\n",
      "   micro avg       0.60      0.60      0.60       304\n",
      "   macro avg       0.38      0.45      0.40       304\n",
      "weighted avg       0.57      0.60      0.58       304\n",
      "\n"
     ]
    },
    {
     "name": "stderr",
     "output_type": "stream",
     "text": [
      "/Users/davistanugraha/anaconda3/lib/python3.7/site-packages/sklearn/linear_model/logistic.py:433: FutureWarning: Default solver will be changed to 'lbfgs' in 0.22. Specify a solver to silence this warning.\n",
      "  FutureWarning)\n",
      "/Users/davistanugraha/anaconda3/lib/python3.7/site-packages/sklearn/linear_model/logistic.py:460: FutureWarning: Default multi_class will be changed to 'auto' in 0.22. Specify the multi_class option to silence this warning.\n",
      "  \"this warning.\", FutureWarning)\n",
      "/Users/davistanugraha/anaconda3/lib/python3.7/site-packages/sklearn/metrics/classification.py:1143: UndefinedMetricWarning: Precision and F-score are ill-defined and being set to 0.0 in labels with no predicted samples.\n",
      "  'precision', 'predicted', average, warn_for)\n"
     ]
    }
   ],
   "source": [
    "lg_clf.fit(X_train, y_train)\n",
    "print(classification_report(y_test, lg_clf.predict(X_test)))"
   ]
  },
  {
   "cell_type": "code",
   "execution_count": null,
   "metadata": {},
   "outputs": [],
   "source": []
  }
 ],
 "metadata": {
  "kernelspec": {
   "display_name": "Python 3",
   "language": "python",
   "name": "python3"
  },
  "language_info": {
   "codemirror_mode": {
    "name": "ipython",
    "version": 3
   },
   "file_extension": ".py",
   "mimetype": "text/x-python",
   "name": "python",
   "nbconvert_exporter": "python",
   "pygments_lexer": "ipython3",
   "version": "3.7.2"
  }
 },
 "nbformat": 4,
 "nbformat_minor": 2
}
